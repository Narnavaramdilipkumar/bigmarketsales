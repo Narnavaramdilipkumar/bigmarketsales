{
 "cells": [
  {
   "cell_type": "code",
   "execution_count": 1,
   "metadata": {
    "execution": {
     "iopub.execute_input": "2021-03-05T10:42:05.815224Z",
     "iopub.status.busy": "2021-03-05T10:42:05.814572Z",
     "iopub.status.idle": "2021-03-05T10:42:06.892957Z",
     "shell.execute_reply": "2021-03-05T10:42:06.893530Z"
    },
    "papermill": {
     "duration": 1.113823,
     "end_time": "2021-03-05T10:42:06.893702",
     "exception": false,
     "start_time": "2021-03-05T10:42:05.779879",
     "status": "completed"
    },
    "tags": []
   },
   "outputs": [],
   "source": [
    "import numpy as np\n",
    "import pandas as pd\n",
    "import seaborn as sns\n",
    "import matplotlib.pyplot as plt\n",
    "%matplotlib inline"
   ]
  },
  {
   "cell_type": "code",
   "execution_count": 2,
   "metadata": {
    "execution": {
     "iopub.execute_input": "2021-03-05T10:42:06.953799Z",
     "iopub.status.busy": "2021-03-05T10:42:06.953066Z",
     "iopub.status.idle": "2021-03-05T10:42:07.024167Z",
     "shell.execute_reply": "2021-03-05T10:42:07.022772Z"
    },
    "papermill": {
     "duration": 0.102457,
     "end_time": "2021-03-05T10:42:07.024298",
     "exception": false,
     "start_time": "2021-03-05T10:42:06.921841",
     "status": "completed"
    },
    "tags": []
   },
   "outputs": [],
   "source": [
    "train_data = pd.read_csv(\"../input/big-mart-salescsv/Train_UWu5bXk.csv\")\n",
    "test_data = pd.read_csv(\"../input/big-mart-salescsv/Test_u94Q5KV.csv\")"
   ]
  },
  {
   "cell_type": "code",
   "execution_count": 3,
   "metadata": {
    "execution": {
     "iopub.execute_input": "2021-03-05T10:42:07.090858Z",
     "iopub.status.busy": "2021-03-05T10:42:07.090047Z",
     "iopub.status.idle": "2021-03-05T10:42:07.111648Z",
     "shell.execute_reply": "2021-03-05T10:42:07.112154Z"
    },
    "papermill": {
     "duration": 0.060391,
     "end_time": "2021-03-05T10:42:07.112289",
     "exception": false,
     "start_time": "2021-03-05T10:42:07.051898",
     "status": "completed"
    },
    "tags": []
   },
   "outputs": [
    {
     "data": {
      "text/html": [
       "<div>\n",
       "<style scoped>\n",
       "    .dataframe tbody tr th:only-of-type {\n",
       "        vertical-align: middle;\n",
       "    }\n",
       "\n",
       "    .dataframe tbody tr th {\n",
       "        vertical-align: top;\n",
       "    }\n",
       "\n",
       "    .dataframe thead th {\n",
       "        text-align: right;\n",
       "    }\n",
       "</style>\n",
       "<table border=\"1\" class=\"dataframe\">\n",
       "  <thead>\n",
       "    <tr style=\"text-align: right;\">\n",
       "      <th></th>\n",
       "      <th>Item_Identifier</th>\n",
       "      <th>Item_Weight</th>\n",
       "      <th>Item_Fat_Content</th>\n",
       "      <th>Item_Visibility</th>\n",
       "      <th>Item_Type</th>\n",
       "      <th>Item_MRP</th>\n",
       "      <th>Outlet_Identifier</th>\n",
       "      <th>Outlet_Establishment_Year</th>\n",
       "      <th>Outlet_Size</th>\n",
       "      <th>Outlet_Location_Type</th>\n",
       "      <th>Outlet_Type</th>\n",
       "      <th>Item_Outlet_Sales</th>\n",
       "    </tr>\n",
       "  </thead>\n",
       "  <tbody>\n",
       "    <tr>\n",
       "      <th>0</th>\n",
       "      <td>FDA15</td>\n",
       "      <td>9.30</td>\n",
       "      <td>Low Fat</td>\n",
       "      <td>0.016047</td>\n",
       "      <td>Dairy</td>\n",
       "      <td>249.8092</td>\n",
       "      <td>OUT049</td>\n",
       "      <td>1999</td>\n",
       "      <td>Medium</td>\n",
       "      <td>Tier 1</td>\n",
       "      <td>Supermarket Type1</td>\n",
       "      <td>3735.1380</td>\n",
       "    </tr>\n",
       "    <tr>\n",
       "      <th>1</th>\n",
       "      <td>DRC01</td>\n",
       "      <td>5.92</td>\n",
       "      <td>Regular</td>\n",
       "      <td>0.019278</td>\n",
       "      <td>Soft Drinks</td>\n",
       "      <td>48.2692</td>\n",
       "      <td>OUT018</td>\n",
       "      <td>2009</td>\n",
       "      <td>Medium</td>\n",
       "      <td>Tier 3</td>\n",
       "      <td>Supermarket Type2</td>\n",
       "      <td>443.4228</td>\n",
       "    </tr>\n",
       "    <tr>\n",
       "      <th>2</th>\n",
       "      <td>FDN15</td>\n",
       "      <td>17.50</td>\n",
       "      <td>Low Fat</td>\n",
       "      <td>0.016760</td>\n",
       "      <td>Meat</td>\n",
       "      <td>141.6180</td>\n",
       "      <td>OUT049</td>\n",
       "      <td>1999</td>\n",
       "      <td>Medium</td>\n",
       "      <td>Tier 1</td>\n",
       "      <td>Supermarket Type1</td>\n",
       "      <td>2097.2700</td>\n",
       "    </tr>\n",
       "    <tr>\n",
       "      <th>3</th>\n",
       "      <td>FDX07</td>\n",
       "      <td>19.20</td>\n",
       "      <td>Regular</td>\n",
       "      <td>0.000000</td>\n",
       "      <td>Fruits and Vegetables</td>\n",
       "      <td>182.0950</td>\n",
       "      <td>OUT010</td>\n",
       "      <td>1998</td>\n",
       "      <td>NaN</td>\n",
       "      <td>Tier 3</td>\n",
       "      <td>Grocery Store</td>\n",
       "      <td>732.3800</td>\n",
       "    </tr>\n",
       "    <tr>\n",
       "      <th>4</th>\n",
       "      <td>NCD19</td>\n",
       "      <td>8.93</td>\n",
       "      <td>Low Fat</td>\n",
       "      <td>0.000000</td>\n",
       "      <td>Household</td>\n",
       "      <td>53.8614</td>\n",
       "      <td>OUT013</td>\n",
       "      <td>1987</td>\n",
       "      <td>High</td>\n",
       "      <td>Tier 3</td>\n",
       "      <td>Supermarket Type1</td>\n",
       "      <td>994.7052</td>\n",
       "    </tr>\n",
       "  </tbody>\n",
       "</table>\n",
       "</div>"
      ],
      "text/plain": [
       "  Item_Identifier  Item_Weight Item_Fat_Content  Item_Visibility  \\\n",
       "0           FDA15         9.30          Low Fat         0.016047   \n",
       "1           DRC01         5.92          Regular         0.019278   \n",
       "2           FDN15        17.50          Low Fat         0.016760   \n",
       "3           FDX07        19.20          Regular         0.000000   \n",
       "4           NCD19         8.93          Low Fat         0.000000   \n",
       "\n",
       "               Item_Type  Item_MRP Outlet_Identifier  \\\n",
       "0                  Dairy  249.8092            OUT049   \n",
       "1            Soft Drinks   48.2692            OUT018   \n",
       "2                   Meat  141.6180            OUT049   \n",
       "3  Fruits and Vegetables  182.0950            OUT010   \n",
       "4              Household   53.8614            OUT013   \n",
       "\n",
       "   Outlet_Establishment_Year Outlet_Size Outlet_Location_Type  \\\n",
       "0                       1999      Medium               Tier 1   \n",
       "1                       2009      Medium               Tier 3   \n",
       "2                       1999      Medium               Tier 1   \n",
       "3                       1998         NaN               Tier 3   \n",
       "4                       1987        High               Tier 3   \n",
       "\n",
       "         Outlet_Type  Item_Outlet_Sales  \n",
       "0  Supermarket Type1          3735.1380  \n",
       "1  Supermarket Type2           443.4228  \n",
       "2  Supermarket Type1          2097.2700  \n",
       "3      Grocery Store           732.3800  \n",
       "4  Supermarket Type1           994.7052  "
      ]
     },
     "execution_count": 3,
     "metadata": {},
     "output_type": "execute_result"
    }
   ],
   "source": [
    "train_data.head()"
   ]
  },
  {
   "cell_type": "code",
   "execution_count": 4,
   "metadata": {
    "execution": {
     "iopub.execute_input": "2021-03-05T10:42:07.186450Z",
     "iopub.status.busy": "2021-03-05T10:42:07.185469Z",
     "iopub.status.idle": "2021-03-05T10:42:07.189966Z",
     "shell.execute_reply": "2021-03-05T10:42:07.190449Z"
    },
    "papermill": {
     "duration": 0.049905,
     "end_time": "2021-03-05T10:42:07.190625",
     "exception": false,
     "start_time": "2021-03-05T10:42:07.140720",
     "status": "completed"
    },
    "tags": []
   },
   "outputs": [
    {
     "data": {
      "text/html": [
       "<div>\n",
       "<style scoped>\n",
       "    .dataframe tbody tr th:only-of-type {\n",
       "        vertical-align: middle;\n",
       "    }\n",
       "\n",
       "    .dataframe tbody tr th {\n",
       "        vertical-align: top;\n",
       "    }\n",
       "\n",
       "    .dataframe thead th {\n",
       "        text-align: right;\n",
       "    }\n",
       "</style>\n",
       "<table border=\"1\" class=\"dataframe\">\n",
       "  <thead>\n",
       "    <tr style=\"text-align: right;\">\n",
       "      <th></th>\n",
       "      <th>Item_Identifier</th>\n",
       "      <th>Item_Weight</th>\n",
       "      <th>Item_Fat_Content</th>\n",
       "      <th>Item_Visibility</th>\n",
       "      <th>Item_Type</th>\n",
       "      <th>Item_MRP</th>\n",
       "      <th>Outlet_Identifier</th>\n",
       "      <th>Outlet_Establishment_Year</th>\n",
       "      <th>Outlet_Size</th>\n",
       "      <th>Outlet_Location_Type</th>\n",
       "      <th>Outlet_Type</th>\n",
       "    </tr>\n",
       "  </thead>\n",
       "  <tbody>\n",
       "    <tr>\n",
       "      <th>0</th>\n",
       "      <td>FDW58</td>\n",
       "      <td>20.750</td>\n",
       "      <td>Low Fat</td>\n",
       "      <td>0.007565</td>\n",
       "      <td>Snack Foods</td>\n",
       "      <td>107.8622</td>\n",
       "      <td>OUT049</td>\n",
       "      <td>1999</td>\n",
       "      <td>Medium</td>\n",
       "      <td>Tier 1</td>\n",
       "      <td>Supermarket Type1</td>\n",
       "    </tr>\n",
       "    <tr>\n",
       "      <th>1</th>\n",
       "      <td>FDW14</td>\n",
       "      <td>8.300</td>\n",
       "      <td>reg</td>\n",
       "      <td>0.038428</td>\n",
       "      <td>Dairy</td>\n",
       "      <td>87.3198</td>\n",
       "      <td>OUT017</td>\n",
       "      <td>2007</td>\n",
       "      <td>NaN</td>\n",
       "      <td>Tier 2</td>\n",
       "      <td>Supermarket Type1</td>\n",
       "    </tr>\n",
       "    <tr>\n",
       "      <th>2</th>\n",
       "      <td>NCN55</td>\n",
       "      <td>14.600</td>\n",
       "      <td>Low Fat</td>\n",
       "      <td>0.099575</td>\n",
       "      <td>Others</td>\n",
       "      <td>241.7538</td>\n",
       "      <td>OUT010</td>\n",
       "      <td>1998</td>\n",
       "      <td>NaN</td>\n",
       "      <td>Tier 3</td>\n",
       "      <td>Grocery Store</td>\n",
       "    </tr>\n",
       "    <tr>\n",
       "      <th>3</th>\n",
       "      <td>FDQ58</td>\n",
       "      <td>7.315</td>\n",
       "      <td>Low Fat</td>\n",
       "      <td>0.015388</td>\n",
       "      <td>Snack Foods</td>\n",
       "      <td>155.0340</td>\n",
       "      <td>OUT017</td>\n",
       "      <td>2007</td>\n",
       "      <td>NaN</td>\n",
       "      <td>Tier 2</td>\n",
       "      <td>Supermarket Type1</td>\n",
       "    </tr>\n",
       "    <tr>\n",
       "      <th>4</th>\n",
       "      <td>FDY38</td>\n",
       "      <td>NaN</td>\n",
       "      <td>Regular</td>\n",
       "      <td>0.118599</td>\n",
       "      <td>Dairy</td>\n",
       "      <td>234.2300</td>\n",
       "      <td>OUT027</td>\n",
       "      <td>1985</td>\n",
       "      <td>Medium</td>\n",
       "      <td>Tier 3</td>\n",
       "      <td>Supermarket Type3</td>\n",
       "    </tr>\n",
       "  </tbody>\n",
       "</table>\n",
       "</div>"
      ],
      "text/plain": [
       "  Item_Identifier  Item_Weight Item_Fat_Content  Item_Visibility    Item_Type  \\\n",
       "0           FDW58       20.750          Low Fat         0.007565  Snack Foods   \n",
       "1           FDW14        8.300              reg         0.038428        Dairy   \n",
       "2           NCN55       14.600          Low Fat         0.099575       Others   \n",
       "3           FDQ58        7.315          Low Fat         0.015388  Snack Foods   \n",
       "4           FDY38          NaN          Regular         0.118599        Dairy   \n",
       "\n",
       "   Item_MRP Outlet_Identifier  Outlet_Establishment_Year Outlet_Size  \\\n",
       "0  107.8622            OUT049                       1999      Medium   \n",
       "1   87.3198            OUT017                       2007         NaN   \n",
       "2  241.7538            OUT010                       1998         NaN   \n",
       "3  155.0340            OUT017                       2007         NaN   \n",
       "4  234.2300            OUT027                       1985      Medium   \n",
       "\n",
       "  Outlet_Location_Type        Outlet_Type  \n",
       "0               Tier 1  Supermarket Type1  \n",
       "1               Tier 2  Supermarket Type1  \n",
       "2               Tier 3      Grocery Store  \n",
       "3               Tier 2  Supermarket Type1  \n",
       "4               Tier 3  Supermarket Type3  "
      ]
     },
     "execution_count": 4,
     "metadata": {},
     "output_type": "execute_result"
    }
   ],
   "source": [
    "test_data.head()"
   ]
  },
  {
   "cell_type": "code",
   "execution_count": 5,
   "metadata": {
    "execution": {
     "iopub.execute_input": "2021-03-05T10:42:07.261205Z",
     "iopub.status.busy": "2021-03-05T10:42:07.260535Z",
     "iopub.status.idle": "2021-03-05T10:42:07.274044Z",
     "shell.execute_reply": "2021-03-05T10:42:07.274639Z"
    },
    "papermill": {
     "duration": 0.055046,
     "end_time": "2021-03-05T10:42:07.274787",
     "exception": false,
     "start_time": "2021-03-05T10:42:07.219741",
     "status": "completed"
    },
    "tags": []
   },
   "outputs": [
    {
     "name": "stdout",
     "output_type": "stream",
     "text": [
      "<class 'pandas.core.frame.DataFrame'>\n",
      "RangeIndex: 8523 entries, 0 to 8522\n",
      "Data columns (total 12 columns):\n",
      " #   Column                     Non-Null Count  Dtype  \n",
      "---  ------                     --------------  -----  \n",
      " 0   Item_Identifier            8523 non-null   object \n",
      " 1   Item_Weight                7060 non-null   float64\n",
      " 2   Item_Fat_Content           8523 non-null   object \n",
      " 3   Item_Visibility            8523 non-null   float64\n",
      " 4   Item_Type                  8523 non-null   object \n",
      " 5   Item_MRP                   8523 non-null   float64\n",
      " 6   Outlet_Identifier          8523 non-null   object \n",
      " 7   Outlet_Establishment_Year  8523 non-null   int64  \n",
      " 8   Outlet_Size                6113 non-null   object \n",
      " 9   Outlet_Location_Type       8523 non-null   object \n",
      " 10  Outlet_Type                8523 non-null   object \n",
      " 11  Item_Outlet_Sales          8523 non-null   float64\n",
      "dtypes: float64(4), int64(1), object(7)\n",
      "memory usage: 799.2+ KB\n"
     ]
    }
   ],
   "source": [
    "train_data.info()"
   ]
  },
  {
   "cell_type": "code",
   "execution_count": 6,
   "metadata": {
    "execution": {
     "iopub.execute_input": "2021-03-05T10:42:07.343415Z",
     "iopub.status.busy": "2021-03-05T10:42:07.342575Z",
     "iopub.status.idle": "2021-03-05T10:42:07.347077Z",
     "shell.execute_reply": "2021-03-05T10:42:07.346553Z"
    },
    "papermill": {
     "duration": 0.043227,
     "end_time": "2021-03-05T10:42:07.347193",
     "exception": false,
     "start_time": "2021-03-05T10:42:07.303966",
     "status": "completed"
    },
    "tags": []
   },
   "outputs": [],
   "source": [
    "train_data.drop('Item_Identifier',axis=1,inplace=True)\n",
    "test_data.drop('Item_Identifier',axis=1,inplace=True)"
   ]
  },
  {
   "cell_type": "code",
   "execution_count": 7,
   "metadata": {
    "execution": {
     "iopub.execute_input": "2021-03-05T10:42:07.417778Z",
     "iopub.status.busy": "2021-03-05T10:42:07.416701Z",
     "iopub.status.idle": "2021-03-05T10:42:07.429630Z",
     "shell.execute_reply": "2021-03-05T10:42:07.428169Z"
    },
    "papermill": {
     "duration": 0.053148,
     "end_time": "2021-03-05T10:42:07.429753",
     "exception": false,
     "start_time": "2021-03-05T10:42:07.376605",
     "status": "completed"
    },
    "tags": []
   },
   "outputs": [
    {
     "name": "stdout",
     "output_type": "stream",
     "text": [
      "<class 'pandas.core.frame.DataFrame'>\n",
      "RangeIndex: 8523 entries, 0 to 8522\n",
      "Data columns (total 11 columns):\n",
      " #   Column                     Non-Null Count  Dtype  \n",
      "---  ------                     --------------  -----  \n",
      " 0   Item_Weight                7060 non-null   float64\n",
      " 1   Item_Fat_Content           8523 non-null   object \n",
      " 2   Item_Visibility            8523 non-null   float64\n",
      " 3   Item_Type                  8523 non-null   object \n",
      " 4   Item_MRP                   8523 non-null   float64\n",
      " 5   Outlet_Identifier          8523 non-null   object \n",
      " 6   Outlet_Establishment_Year  8523 non-null   int64  \n",
      " 7   Outlet_Size                6113 non-null   object \n",
      " 8   Outlet_Location_Type       8523 non-null   object \n",
      " 9   Outlet_Type                8523 non-null   object \n",
      " 10  Item_Outlet_Sales          8523 non-null   float64\n",
      "dtypes: float64(4), int64(1), object(6)\n",
      "memory usage: 732.6+ KB\n"
     ]
    }
   ],
   "source": [
    "train_data.info()"
   ]
  },
  {
   "cell_type": "code",
   "execution_count": 8,
   "metadata": {
    "execution": {
     "iopub.execute_input": "2021-03-05T10:42:07.496668Z",
     "iopub.status.busy": "2021-03-05T10:42:07.495343Z",
     "iopub.status.idle": "2021-03-05T10:42:07.671305Z",
     "shell.execute_reply": "2021-03-05T10:42:07.671810Z"
    },
    "papermill": {
     "duration": 0.211945,
     "end_time": "2021-03-05T10:42:07.671961",
     "exception": false,
     "start_time": "2021-03-05T10:42:07.460016",
     "status": "completed"
    },
    "tags": []
   },
   "outputs": [
    {
     "data": {
      "image/png": "[encoded data removed]",
      "text/plain": [
       "<Figure size 432x288 with 1 Axes>"
      ]
     },
     "metadata": {
      "needs_background": "light"
     },
     "output_type": "display_data"
    }
   ],
   "source": [
    "sns.countplot(x='Item_Fat_Content',data=train_data);"
   ]
  },
  {
   "cell_type": "code",
   "execution_count": 9,
   "metadata": {
    "execution": {
     "iopub.execute_input": "2021-03-05T10:42:07.743459Z",
     "iopub.status.busy": "2021-03-05T10:42:07.742846Z",
     "iopub.status.idle": "2021-03-05T10:42:07.745535Z",
     "shell.execute_reply": "2021-03-05T10:42:07.746094Z"
    },
    "papermill": {
     "duration": 0.042873,
     "end_time": "2021-03-05T10:42:07.746229",
     "exception": false,
     "start_time": "2021-03-05T10:42:07.703356",
     "status": "completed"
    },
    "tags": []
   },
   "outputs": [],
   "source": [
    "def clean_col(col):\n",
    "    if(col==\"low fat\" or col==\"LF\"):\n",
    "        return \"Low Fat\"\n",
    "    elif(col==\"reg\"):\n",
    "        return \"Regular\"\n",
    "    else:\n",
    "        return col"
   ]
  },
  {
   "cell_type": "code",
   "execution_count": 10,
   "metadata": {
    "execution": {
     "iopub.execute_input": "2021-03-05T10:42:07.818117Z",
     "iopub.status.busy": "2021-03-05T10:42:07.817324Z",
     "iopub.status.idle": "2021-03-05T10:42:07.820845Z",
     "shell.execute_reply": "2021-03-05T10:42:07.820200Z"
    },
    "papermill": {
     "duration": 0.043958,
     "end_time": "2021-03-05T10:42:07.820956",
     "exception": false,
     "start_time": "2021-03-05T10:42:07.776998",
     "status": "completed"
    },
    "tags": []
   },
   "outputs": [],
   "source": [
    "train_data['Item_Fat_Content']=train_data['Item_Fat_Content'].apply(clean_col)"
   ]
  },
  {
   "cell_type": "code",
   "execution_count": 11,
   "metadata": {
    "execution": {
     "iopub.execute_input": "2021-03-05T10:42:07.890251Z",
     "iopub.status.busy": "2021-03-05T10:42:07.889575Z",
     "iopub.status.idle": "2021-03-05T10:42:08.000804Z",
     "shell.execute_reply": "2021-03-05T10:42:08.000068Z"
    },
    "papermill": {
     "duration": 0.149059,
     "end_time": "2021-03-05T10:42:08.000926",
     "exception": false,
     "start_time": "2021-03-05T10:42:07.851867",
     "status": "completed"
    },
    "tags": []
   },
   "outputs": [
    {
     "data": {
      "text/plain": [
       "<matplotlib.axes._subplots.AxesSubplot at 0x7f0ca802e590>"
      ]
     },
     "execution_count": 11,
     "metadata": {},
     "output_type": "execute_result"
    },
    {
     "data": {
      "image/png": "[encoded data removed]",
      "text/plain": [
       "<Figure size 432x288 with 1 Axes>"
      ]
     },
     "metadata": {
      "needs_background": "light"
     },
     "output_type": "display_data"
    }
   ],
   "source": [
    "sns.countplot(x='Item_Fat_Content',data=train_data)"
   ]
  },
  {
   "cell_type": "code",
   "execution_count": 12,
   "metadata": {
    "execution": {
     "iopub.execute_input": "2021-03-05T10:42:08.074065Z",
     "iopub.status.busy": "2021-03-05T10:42:08.072554Z",
     "iopub.status.idle": "2021-03-05T10:42:08.208635Z",
     "shell.execute_reply": "2021-03-05T10:42:08.208067Z"
    },
    "papermill": {
     "duration": 0.174896,
     "end_time": "2021-03-05T10:42:08.208759",
     "exception": false,
     "start_time": "2021-03-05T10:42:08.033863",
     "status": "completed"
    },
    "tags": []
   },
   "outputs": [
    {
     "data": {
      "text/plain": [
       "<matplotlib.axes._subplots.AxesSubplot at 0x7f0ca3fa6850>"
      ]
     },
     "execution_count": 12,
     "metadata": {},
     "output_type": "execute_result"
    },
    {
     "data": {
      "image/png": "[encoded data removed]",
      "text/plain": [
       "<Figure size 432x288 with 1 Axes>"
      ]
     },
     "metadata": {
      "needs_background": "light"
     },
     "output_type": "display_data"
    }
   ],
   "source": [
    "sns.countplot(x='Item_Fat_Content',data=test_data)"
   ]
  },
  {
   "cell_type": "code",
   "execution_count": 13,
   "metadata": {
    "execution": {
     "iopub.execute_input": "2021-03-05T10:42:08.285936Z",
     "iopub.status.busy": "2021-03-05T10:42:08.285200Z",
     "iopub.status.idle": "2021-03-05T10:42:08.289097Z",
     "shell.execute_reply": "2021-03-05T10:42:08.287998Z"
    },
    "papermill": {
     "duration": 0.046798,
     "end_time": "2021-03-05T10:42:08.289227",
     "exception": false,
     "start_time": "2021-03-05T10:42:08.242429",
     "status": "completed"
    },
    "tags": []
   },
   "outputs": [],
   "source": [
    "test_data['Item_Fat_Content']=test_data['Item_Fat_Content'].apply(clean_col)"
   ]
  },
  {
   "cell_type": "code",
   "execution_count": 14,
   "metadata": {
    "execution": {
     "iopub.execute_input": "2021-03-05T10:42:08.364109Z",
     "iopub.status.busy": "2021-03-05T10:42:08.363336Z",
     "iopub.status.idle": "2021-03-05T10:42:08.477794Z",
     "shell.execute_reply": "2021-03-05T10:42:08.477246Z"
    },
    "papermill": {
     "duration": 0.154621,
     "end_time": "2021-03-05T10:42:08.477905",
     "exception": false,
     "start_time": "2021-03-05T10:42:08.323284",
     "status": "completed"
    },
    "tags": []
   },
   "outputs": [
    {
     "data": {
      "text/plain": [
       "<matplotlib.axes._subplots.AxesSubplot at 0x7f0ca3f08dd0>"
      ]
     },
     "execution_count": 14,
     "metadata": {},
     "output_type": "execute_result"
    },
    {
     "data": {
      "image/png": "[encoded data removed]",
      "text/plain": [
       "<Figure size 432x288 with 1 Axes>"
      ]
     },
     "metadata": {
      "needs_background": "light"
     },
     "output_type": "display_data"
    }
   ],
   "source": [
    "sns.countplot(x='Item_Fat_Content',data=test_data)"
   ]
  },
  {
   "cell_type": "code",
   "execution_count": 15,
   "metadata": {
    "execution": {
     "iopub.execute_input": "2021-03-05T10:42:08.553776Z",
     "iopub.status.busy": "2021-03-05T10:42:08.552201Z",
     "iopub.status.idle": "2021-03-05T10:42:08.757840Z",
     "shell.execute_reply": "2021-03-05T10:42:08.758308Z"
    },
    "papermill": {
     "duration": 0.245666,
     "end_time": "2021-03-05T10:42:08.758449",
     "exception": false,
     "start_time": "2021-03-05T10:42:08.512783",
     "status": "completed"
    },
    "tags": []
   },
   "outputs": [
    {
     "data": {
      "text/plain": [
       "<matplotlib.axes._subplots.AxesSubplot at 0x7f0ca3ee8450>"
      ]
     },
     "execution_count": 15,
     "metadata": {},
     "output_type": "execute_result"
    },
    {
     "data": {
      "image/png": "[encoded data removed]",
      "text/plain": [
       "<Figure size 864x216 with 1 Axes>"
      ]
     },
     "metadata": {
      "needs_background": "light"
     },
     "output_type": "display_data"
    }
   ],
   "source": [
    "plt.figure(figsize=(12,3))\n",
    "sns.countplot(x='Item_Type',data=train_data)"
   ]
  },
  {
   "cell_type": "code",
   "execution_count": 16,
   "metadata": {
    "execution": {
     "iopub.execute_input": "2021-03-05T10:42:08.843127Z",
     "iopub.status.busy": "2021-03-05T10:42:08.836815Z",
     "iopub.status.idle": "2021-03-05T10:42:09.074266Z",
     "shell.execute_reply": "2021-03-05T10:42:09.073493Z"
    },
    "papermill": {
     "duration": 0.279459,
     "end_time": "2021-03-05T10:42:09.074427",
     "exception": false,
     "start_time": "2021-03-05T10:42:08.794968",
     "status": "completed"
    },
    "tags": []
   },
   "outputs": [
    {
     "data": {
      "text/plain": [
       "<matplotlib.axes._subplots.AxesSubplot at 0x7f0ca3e8ed90>"
      ]
     },
     "execution_count": 16,
     "metadata": {},
     "output_type": "execute_result"
    },
    {
     "data": {
      "image/png": "[encoded data removed]",
      "text/plain": [
       "<Figure size 432x288 with 1 Axes>"
      ]
     },
     "metadata": {
      "needs_background": "light"
     },
     "output_type": "display_data"
    }
   ],
   "source": [
    "sns.heatmap(train_data.isnull(),yticklabels=False,cbar=False,cmap='viridis')"
   ]
  },
  {
   "cell_type": "code",
   "execution_count": 17,
   "metadata": {
    "execution": {
     "iopub.execute_input": "2021-03-05T10:42:09.162617Z",
     "iopub.status.busy": "2021-03-05T10:42:09.161898Z",
     "iopub.status.idle": "2021-03-05T10:42:09.165973Z",
     "shell.execute_reply": "2021-03-05T10:42:09.165334Z"
    },
    "papermill": {
     "duration": 0.054055,
     "end_time": "2021-03-05T10:42:09.166085",
     "exception": false,
     "start_time": "2021-03-05T10:42:09.112030",
     "status": "completed"
    },
    "tags": []
   },
   "outputs": [],
   "source": [
    "train_data.drop('Outlet_Identifier',axis=1,inplace=True)\n",
    "test_data.drop('Outlet_Identifier',axis=1,inplace=True)"
   ]
  },
  {
   "cell_type": "code",
   "execution_count": 18,
   "metadata": {
    "execution": {
     "iopub.execute_input": "2021-03-05T10:42:09.268001Z",
     "iopub.status.busy": "2021-03-05T10:42:09.265954Z",
     "iopub.status.idle": "2021-03-05T10:42:09.571124Z",
     "shell.execute_reply": "2021-03-05T10:42:09.570492Z"
    },
    "papermill": {
     "duration": 0.362092,
     "end_time": "2021-03-05T10:42:09.571233",
     "exception": false,
     "start_time": "2021-03-05T10:42:09.209141",
     "status": "completed"
    },
    "tags": []
   },
   "outputs": [
    {
     "data": {
      "text/plain": [
       "<matplotlib.axes._subplots.AxesSubplot at 0x7f0ca3df5e50>"
      ]
     },
     "execution_count": 18,
     "metadata": {},
     "output_type": "execute_result"
    },
    {
     "data": {
      "image/png": "[encoded data removed]",
      "text/plain": [
       "<Figure size 432x288 with 1 Axes>"
      ]
     },
     "metadata": {
      "needs_background": "light"
     },
     "output_type": "display_data"
    }
   ],
   "source": [
    "sns.heatmap(train_data.isnull(),yticklabels=False,cbar=False,cmap='viridis')"
   ]
  },
  {
   "cell_type": "code",
   "execution_count": 19,
   "metadata": {
    "execution": {
     "iopub.execute_input": "2021-03-05T10:42:09.656715Z",
     "iopub.status.busy": "2021-03-05T10:42:09.655744Z",
     "iopub.status.idle": "2021-03-05T10:42:10.095332Z",
     "shell.execute_reply": "2021-03-05T10:42:10.094680Z"
    },
    "papermill": {
     "duration": 0.485425,
     "end_time": "2021-03-05T10:42:10.095466",
     "exception": false,
     "start_time": "2021-03-05T10:42:09.610041",
     "status": "completed"
    },
    "tags": []
   },
   "outputs": [
    {
     "data": {
      "text/plain": [
       "<matplotlib.axes._subplots.AxesSubplot at 0x7f0ca3ef8250>"
      ]
     },
     "execution_count": 19,
     "metadata": {},
     "output_type": "execute_result"
    },
    {
     "data": {
      "image/png": "[encoded data removed]",
      "text/plain": [
       "<Figure size 1080x216 with 1 Axes>"
      ]
     },
     "metadata": {
      "needs_background": "light"
     },
     "output_type": "display_data"
    }
   ],
   "source": [
    "plt.figure(figsize=(15,3))\n",
    "sns.boxplot(x=\"Item_Type\", y=\"Item_Weight\", data=train_data,palette='rainbow')"
   ]
  },
  {
   "cell_type": "code",
   "execution_count": 20,
   "metadata": {
    "execution": {
     "iopub.execute_input": "2021-03-05T10:42:10.182277Z",
     "iopub.status.busy": "2021-03-05T10:42:10.181230Z",
     "iopub.status.idle": "2021-03-05T10:42:10.193774Z",
     "shell.execute_reply": "2021-03-05T10:42:10.193134Z"
    },
    "papermill": {
     "duration": 0.058463,
     "end_time": "2021-03-05T10:42:10.193889",
     "exception": false,
     "start_time": "2021-03-05T10:42:10.135426",
     "status": "completed"
    },
    "tags": []
   },
   "outputs": [
    {
     "data": {
      "text/plain": [
       "Item_Type\n",
       "Baking Goods             12.277108\n",
       "Breads                   11.346936\n",
       "Breakfast                12.768202\n",
       "Canned                   12.305705\n",
       "Dairy                    13.426069\n",
       "Frozen Foods             12.867061\n",
       "Fruits and Vegetables    13.224769\n",
       "Hard Drinks              11.400328\n",
       "Health and Hygiene       13.142314\n",
       "Household                13.384736\n",
       "Meat                     12.817344\n",
       "Others                   13.853285\n",
       "Seafood                  12.552843\n",
       "Snack Foods              12.987880\n",
       "Soft Drinks              11.847460\n",
       "Starchy Foods            13.690731\n",
       "Name: Item_Weight, dtype: float64"
      ]
     },
     "execution_count": 20,
     "metadata": {},
     "output_type": "execute_result"
    }
   ],
   "source": [
    "train_data.groupby('Item_Type').mean()['Item_Weight']"
   ]
  },
  {
   "cell_type": "code",
   "execution_count": 21,
   "metadata": {
    "execution": {
     "iopub.execute_input": "2021-03-05T10:42:10.278268Z",
     "iopub.status.busy": "2021-03-05T10:42:10.277673Z",
     "iopub.status.idle": "2021-03-05T10:42:10.283275Z",
     "shell.execute_reply": "2021-03-05T10:42:10.283931Z"
    },
    "papermill": {
     "duration": 0.049659,
     "end_time": "2021-03-05T10:42:10.284080",
     "exception": false,
     "start_time": "2021-03-05T10:42:10.234421",
     "status": "completed"
    },
    "tags": []
   },
   "outputs": [],
   "source": [
    "def fill_null(row):\n",
    "    if(pd.isnull(row['Item_Weight'])):\n",
    "        row['Item_Weight']=train_data.groupby('Item_Type').mean()['Item_Weight'][row['Item_Type']]\n",
    "        return row\n",
    "    else:\n",
    "        return row"
   ]
  },
  {
   "cell_type": "code",
   "execution_count": 22,
   "metadata": {
    "execution": {
     "iopub.execute_input": "2021-03-05T10:42:10.368999Z",
     "iopub.status.busy": "2021-03-05T10:42:10.368353Z",
     "iopub.status.idle": "2021-03-05T10:42:15.867746Z",
     "shell.execute_reply": "2021-03-05T10:42:15.867128Z"
    },
    "papermill": {
     "duration": 5.543236,
     "end_time": "2021-03-05T10:42:15.867873",
     "exception": false,
     "start_time": "2021-03-05T10:42:10.324637",
     "status": "completed"
    },
    "tags": []
   },
   "outputs": [],
   "source": [
    "train_data = train_data.apply(fill_null,axis=1)"
   ]
  },
  {
   "cell_type": "code",
   "execution_count": 23,
   "metadata": {
    "execution": {
     "iopub.execute_input": "2021-03-05T10:42:15.962033Z",
     "iopub.status.busy": "2021-03-05T10:42:15.961200Z",
     "iopub.status.idle": "2021-03-05T10:42:16.156712Z",
     "shell.execute_reply": "2021-03-05T10:42:16.156137Z"
    },
    "papermill": {
     "duration": 0.247885,
     "end_time": "2021-03-05T10:42:16.156827",
     "exception": false,
     "start_time": "2021-03-05T10:42:15.908942",
     "status": "completed"
    },
    "tags": []
   },
   "outputs": [
    {
     "data": {
      "text/plain": [
       "<matplotlib.axes._subplots.AxesSubplot at 0x7f0ca292c8d0>"
      ]
     },
     "execution_count": 23,
     "metadata": {},
     "output_type": "execute_result"
    },
    {
     "data": {
      "image/png": "[encoded data removed]",
      "text/plain": [
       "<Figure size 432x288 with 1 Axes>"
      ]
     },
     "metadata": {
      "needs_background": "light"
     },
     "output_type": "display_data"
    }
   ],
   "source": [
    "sns.heatmap(train_data.isnull(),yticklabels=False,cbar=False,cmap='viridis')"
   ]
  },
  {
   "cell_type": "code",
   "execution_count": 24,
   "metadata": {
    "execution": {
     "iopub.execute_input": "2021-03-05T10:42:16.250708Z",
     "iopub.status.busy": "2021-03-05T10:42:16.250002Z",
     "iopub.status.idle": "2021-03-05T10:42:16.437062Z",
     "shell.execute_reply": "2021-03-05T10:42:16.436302Z"
    },
    "papermill": {
     "duration": 0.237381,
     "end_time": "2021-03-05T10:42:16.437187",
     "exception": false,
     "start_time": "2021-03-05T10:42:16.199806",
     "status": "completed"
    },
    "tags": []
   },
   "outputs": [
    {
     "data": {
      "text/plain": [
       "<matplotlib.axes._subplots.AxesSubplot at 0x7f0ca3182e90>"
      ]
     },
     "execution_count": 24,
     "metadata": {},
     "output_type": "execute_result"
    },
    {
     "data": {
      "image/png": "[encoded data removed]",
      "text/plain": [
       "<Figure size 432x288 with 1 Axes>"
      ]
     },
     "metadata": {
      "needs_background": "light"
     },
     "output_type": "display_data"
    }
   ],
   "source": [
    "sns.countplot(x='Outlet_Size',data=train_data,hue='Outlet_Type')"
   ]
  },
  {
   "cell_type": "code",
   "execution_count": 25,
   "metadata": {
    "execution": {
     "iopub.execute_input": "2021-03-05T10:42:16.533906Z",
     "iopub.status.busy": "2021-03-05T10:42:16.533150Z",
     "iopub.status.idle": "2021-03-05T10:42:16.535961Z",
     "shell.execute_reply": "2021-03-05T10:42:16.536444Z"
    },
    "papermill": {
     "duration": 0.055516,
     "end_time": "2021-03-05T10:42:16.536636",
     "exception": false,
     "start_time": "2021-03-05T10:42:16.481120",
     "status": "completed"
    },
    "tags": []
   },
   "outputs": [],
   "source": [
    "def fill_size(row):\n",
    "    if(pd.isnull(row['Outlet_Size'])):\n",
    "        if(row['Outlet_Type']==\"Supermarket Type1\"):\n",
    "            row['Outlet_Size']=\"Small\"\n",
    "            return row\n",
    "        elif(row['Outlet_Type']==\"Supermarket Type2\"):\n",
    "            row['Outlet_Size']=\"Medium\"\n",
    "            return row\n",
    "        elif(row['Outlet_Type']==\"Supermarket Type3\"):\n",
    "            row['Outlet_Size']=\"Medium\"\n",
    "            return row\n",
    "        else:\n",
    "            row['Outlet_Size']=\"Small\"\n",
    "            return row\n",
    "    else:\n",
    "       return row"
   ]
  },
  {
   "cell_type": "code",
   "execution_count": 26,
   "metadata": {
    "execution": {
     "iopub.execute_input": "2021-03-05T10:42:16.631157Z",
     "iopub.status.busy": "2021-03-05T10:42:16.630440Z",
     "iopub.status.idle": "2021-03-05T10:42:17.396942Z",
     "shell.execute_reply": "2021-03-05T10:42:17.396361Z"
    },
    "papermill": {
     "duration": 0.815161,
     "end_time": "2021-03-05T10:42:17.397063",
     "exception": false,
     "start_time": "2021-03-05T10:42:16.581902",
     "status": "completed"
    },
    "tags": []
   },
   "outputs": [],
   "source": [
    "train_data = train_data.apply(fill_size,axis=1)"
   ]
  },
  {
   "cell_type": "code",
   "execution_count": 27,
   "metadata": {
    "execution": {
     "iopub.execute_input": "2021-03-05T10:42:17.496990Z",
     "iopub.status.busy": "2021-03-05T10:42:17.496149Z",
     "iopub.status.idle": "2021-03-05T10:42:17.689681Z",
     "shell.execute_reply": "2021-03-05T10:42:17.689051Z"
    },
    "papermill": {
     "duration": 0.248476,
     "end_time": "2021-03-05T10:42:17.689879",
     "exception": false,
     "start_time": "2021-03-05T10:42:17.441403",
     "status": "completed"
    },
    "tags": []
   },
   "outputs": [
    {
     "data": {
      "text/plain": [
       "<matplotlib.axes._subplots.AxesSubplot at 0x7f0ca2883150>"
      ]
     },
     "execution_count": 27,
     "metadata": {},
     "output_type": "execute_result"
    },
    {
     "data": {
      "image/png": "[encoded data removed]",
      "text/plain": [
       "<Figure size 432x288 with 1 Axes>"
      ]
     },
     "metadata": {
      "needs_background": "light"
     },
     "output_type": "display_data"
    }
   ],
   "source": [
    "sns.heatmap(train_data.isnull(),yticklabels=False,cbar=False,cmap='viridis')"
   ]
  },
  {
   "cell_type": "code",
   "execution_count": 28,
   "metadata": {
    "execution": {
     "iopub.execute_input": "2021-03-05T10:42:17.799425Z",
     "iopub.status.busy": "2021-03-05T10:42:17.797822Z",
     "iopub.status.idle": "2021-03-05T10:42:17.954625Z",
     "shell.execute_reply": "2021-03-05T10:42:17.954027Z"
    },
    "papermill": {
     "duration": 0.21098,
     "end_time": "2021-03-05T10:42:17.954744",
     "exception": false,
     "start_time": "2021-03-05T10:42:17.743764",
     "status": "completed"
    },
    "tags": []
   },
   "outputs": [
    {
     "data": {
      "text/plain": [
       "<matplotlib.axes._subplots.AxesSubplot at 0x7f0ca27bbe10>"
      ]
     },
     "execution_count": 28,
     "metadata": {},
     "output_type": "execute_result"
    },
    {
     "data": {
      "image/png": "[encoded data removed]",
      "text/plain": [
       "<Figure size 432x288 with 1 Axes>"
      ]
     },
     "metadata": {
      "needs_background": "light"
     },
     "output_type": "display_data"
    }
   ],
   "source": [
    "sns.heatmap(test_data.isnull(),yticklabels=False,cbar=False,cmap='viridis')"
   ]
  },
  {
   "cell_type": "code",
   "execution_count": 29,
   "metadata": {
    "execution": {
     "iopub.execute_input": "2021-03-05T10:42:18.056613Z",
     "iopub.status.busy": "2021-03-05T10:42:18.055541Z",
     "iopub.status.idle": "2021-03-05T10:42:18.058979Z",
     "shell.execute_reply": "2021-03-05T10:42:18.058402Z"
    },
    "papermill": {
     "duration": 0.05787,
     "end_time": "2021-03-05T10:42:18.059090",
     "exception": false,
     "start_time": "2021-03-05T10:42:18.001220",
     "status": "completed"
    },
    "tags": []
   },
   "outputs": [],
   "source": [
    "def fill_null2(row):\n",
    "    if(pd.isnull(row['Item_Weight'])):\n",
    "        row['Item_Weight']=test_data.groupby('Item_Type').mean()['Item_Weight'][row['Item_Type']]\n",
    "        return row\n",
    "    else:\n",
    "        return row"
   ]
  },
  {
   "cell_type": "code",
   "execution_count": 30,
   "metadata": {
    "execution": {
     "iopub.execute_input": "2021-03-05T10:42:18.163315Z",
     "iopub.status.busy": "2021-03-05T10:42:18.162243Z",
     "iopub.status.idle": "2021-03-05T10:42:21.348666Z",
     "shell.execute_reply": "2021-03-05T10:42:21.347987Z"
    },
    "papermill": {
     "duration": 3.242744,
     "end_time": "2021-03-05T10:42:21.348792",
     "exception": false,
     "start_time": "2021-03-05T10:42:18.106048",
     "status": "completed"
    },
    "tags": []
   },
   "outputs": [],
   "source": [
    "test_data = test_data.apply(fill_null2,axis=1)"
   ]
  },
  {
   "cell_type": "code",
   "execution_count": 31,
   "metadata": {
    "execution": {
     "iopub.execute_input": "2021-03-05T10:42:21.454951Z",
     "iopub.status.busy": "2021-03-05T10:42:21.454220Z",
     "iopub.status.idle": "2021-03-05T10:42:21.607931Z",
     "shell.execute_reply": "2021-03-05T10:42:21.606947Z"
    },
    "papermill": {
     "duration": 0.21079,
     "end_time": "2021-03-05T10:42:21.608054",
     "exception": false,
     "start_time": "2021-03-05T10:42:21.397264",
     "status": "completed"
    },
    "tags": []
   },
   "outputs": [
    {
     "data": {
      "text/plain": [
       "<matplotlib.axes._subplots.AxesSubplot at 0x7f0ca2a46e10>"
      ]
     },
     "execution_count": 31,
     "metadata": {},
     "output_type": "execute_result"
    },
    {
     "data": {
      "image/png": "[encoded data removed]",
      "text/plain": [
       "<Figure size 432x288 with 1 Axes>"
      ]
     },
     "metadata": {
      "needs_background": "light"
     },
     "output_type": "display_data"
    }
   ],
   "source": [
    "sns.heatmap(test_data.isnull(),yticklabels=False,cbar=False,cmap='viridis')"
   ]
  },
  {
   "cell_type": "code",
   "execution_count": 32,
   "metadata": {
    "execution": {
     "iopub.execute_input": "2021-03-05T10:42:21.712375Z",
     "iopub.status.busy": "2021-03-05T10:42:21.711664Z",
     "iopub.status.idle": "2021-03-05T10:42:21.893744Z",
     "shell.execute_reply": "2021-03-05T10:42:21.893038Z"
    },
    "papermill": {
     "duration": 0.237783,
     "end_time": "2021-03-05T10:42:21.893921",
     "exception": false,
     "start_time": "2021-03-05T10:42:21.656138",
     "status": "completed"
    },
    "tags": []
   },
   "outputs": [
    {
     "data": {
      "text/plain": [
       "<matplotlib.axes._subplots.AxesSubplot at 0x7f0ca28a0050>"
      ]
     },
     "execution_count": 32,
     "metadata": {},
     "output_type": "execute_result"
    },
    {
     "data": {
      "image/png": "[encoded data removed]",
      "text/plain": [
       "<Figure size 432x288 with 1 Axes>"
      ]
     },
     "metadata": {
      "needs_background": "light"
     },
     "output_type": "display_data"
    }
   ],
   "source": [
    "sns.countplot(x='Outlet_Size',data=test_data,hue='Outlet_Type')"
   ]
  },
  {
   "cell_type": "code",
   "execution_count": 33,
   "metadata": {
    "execution": {
     "iopub.execute_input": "2021-03-05T10:42:22.003763Z",
     "iopub.status.busy": "2021-03-05T10:42:22.002899Z",
     "iopub.status.idle": "2021-03-05T10:42:22.005925Z",
     "shell.execute_reply": "2021-03-05T10:42:22.005401Z"
    },
    "papermill": {
     "duration": 0.061711,
     "end_time": "2021-03-05T10:42:22.006110",
     "exception": false,
     "start_time": "2021-03-05T10:42:21.944399",
     "status": "completed"
    },
    "tags": []
   },
   "outputs": [],
   "source": [
    "def fill_size2(row):\n",
    "    if(pd.isnull(row['Outlet_Size'])):\n",
    "        if(row['Outlet_Type']==\"Supermarket Type1\"):\n",
    "            row['Outlet_Size']=\"Small\"\n",
    "            return row\n",
    "        elif(row['Outlet_Type']==\"Supermarket Type2\"):\n",
    "            row['Outlet_Size']=\"Medium\"\n",
    "            return row\n",
    "        elif(row['Outlet_Type']==\"Supermarket Type3\"):\n",
    "            row['Outlet_Size']=\"Medium\"\n",
    "            return row\n",
    "        else:\n",
    "            row['Outlet_Size']=\"Small\"\n",
    "            return row\n",
    "    else:\n",
    "       return row"
   ]
  },
  {
   "cell_type": "code",
   "execution_count": 34,
   "metadata": {
    "execution": {
     "iopub.execute_input": "2021-03-05T10:42:22.111553Z",
     "iopub.status.busy": "2021-03-05T10:42:22.110898Z",
     "iopub.status.idle": "2021-03-05T10:42:22.643685Z",
     "shell.execute_reply": "2021-03-05T10:42:22.643077Z"
    },
    "papermill": {
     "duration": 0.588034,
     "end_time": "2021-03-05T10:42:22.643814",
     "exception": false,
     "start_time": "2021-03-05T10:42:22.055780",
     "status": "completed"
    },
    "tags": []
   },
   "outputs": [],
   "source": [
    "test_data = test_data.apply(fill_size2,axis=1)"
   ]
  },
  {
   "cell_type": "code",
   "execution_count": 35,
   "metadata": {
    "execution": {
     "iopub.execute_input": "2021-03-05T10:42:22.753886Z",
     "iopub.status.busy": "2021-03-05T10:42:22.752983Z",
     "iopub.status.idle": "2021-03-05T10:42:22.904989Z",
     "shell.execute_reply": "2021-03-05T10:42:22.904444Z"
    },
    "papermill": {
     "duration": 0.21133,
     "end_time": "2021-03-05T10:42:22.905103",
     "exception": false,
     "start_time": "2021-03-05T10:42:22.693773",
     "status": "completed"
    },
    "tags": []
   },
   "outputs": [
    {
     "data": {
      "text/plain": [
       "<matplotlib.axes._subplots.AxesSubplot at 0x7f0ca28db310>"
      ]
     },
     "execution_count": 35,
     "metadata": {},
     "output_type": "execute_result"
    },
    {
     "data": {
      "image/png": "[encoded data removed]",
      "text/plain": [
       "<Figure size 432x288 with 1 Axes>"
      ]
     },
     "metadata": {
      "needs_background": "light"
     },
     "output_type": "display_data"
    }
   ],
   "source": [
    "sns.heatmap(test_data.isnull(),yticklabels=False,cbar=False,cmap='viridis')"
   ]
  },
  {
   "cell_type": "code",
   "execution_count": 36,
   "metadata": {
    "execution": {
     "iopub.execute_input": "2021-03-05T10:42:23.016567Z",
     "iopub.status.busy": "2021-03-05T10:42:23.015789Z",
     "iopub.status.idle": "2021-03-05T10:42:23.043991Z",
     "shell.execute_reply": "2021-03-05T10:42:23.043378Z"
    },
    "papermill": {
     "duration": 0.08734,
     "end_time": "2021-03-05T10:42:23.044103",
     "exception": false,
     "start_time": "2021-03-05T10:42:22.956763",
     "status": "completed"
    },
    "tags": []
   },
   "outputs": [],
   "source": [
    "data_types = train_data.dtypes\n",
    "for cols in train_data.columns:\n",
    "    if data_types[cols]==data_types['Item_Type']:\n",
    "        temp = pd.get_dummies(train_data[cols],drop_first=True)\n",
    "        train_data.drop(cols,axis=1,inplace=True)\n",
    "        train_data = pd.concat([train_data,temp],axis=1)\n",
    "#data.head()"
   ]
  },
  {
   "cell_type": "code",
   "execution_count": 37,
   "metadata": {
    "execution": {
     "iopub.execute_input": "2021-03-05T10:42:23.172127Z",
     "iopub.status.busy": "2021-03-05T10:42:23.171122Z",
     "iopub.status.idle": "2021-03-05T10:42:23.175975Z",
     "shell.execute_reply": "2021-03-05T10:42:23.176470Z"
    },
    "papermill": {
     "duration": 0.081255,
     "end_time": "2021-03-05T10:42:23.176629",
     "exception": false,
     "start_time": "2021-03-05T10:42:23.095374",
     "status": "completed"
    },
    "tags": []
   },
   "outputs": [
    {
     "data": {
      "text/html": [
       "<div>\n",
       "<style scoped>\n",
       "    .dataframe tbody tr th:only-of-type {\n",
       "        vertical-align: middle;\n",
       "    }\n",
       "\n",
       "    .dataframe tbody tr th {\n",
       "        vertical-align: top;\n",
       "    }\n",
       "\n",
       "    .dataframe thead th {\n",
       "        text-align: right;\n",
       "    }\n",
       "</style>\n",
       "<table border=\"1\" class=\"dataframe\">\n",
       "  <thead>\n",
       "    <tr style=\"text-align: right;\">\n",
       "      <th></th>\n",
       "      <th>Item_Weight</th>\n",
       "      <th>Item_Visibility</th>\n",
       "      <th>Item_MRP</th>\n",
       "      <th>Outlet_Establishment_Year</th>\n",
       "      <th>Item_Outlet_Sales</th>\n",
       "      <th>Regular</th>\n",
       "      <th>Breads</th>\n",
       "      <th>Breakfast</th>\n",
       "      <th>Canned</th>\n",
       "      <th>Dairy</th>\n",
       "      <th>...</th>\n",
       "      <th>Snack Foods</th>\n",
       "      <th>Soft Drinks</th>\n",
       "      <th>Starchy Foods</th>\n",
       "      <th>Medium</th>\n",
       "      <th>Small</th>\n",
       "      <th>Tier 2</th>\n",
       "      <th>Tier 3</th>\n",
       "      <th>Supermarket Type1</th>\n",
       "      <th>Supermarket Type2</th>\n",
       "      <th>Supermarket Type3</th>\n",
       "    </tr>\n",
       "  </thead>\n",
       "  <tbody>\n",
       "    <tr>\n",
       "      <th>0</th>\n",
       "      <td>9.30</td>\n",
       "      <td>0.016047</td>\n",
       "      <td>249.8092</td>\n",
       "      <td>1999</td>\n",
       "      <td>3735.1380</td>\n",
       "      <td>0</td>\n",
       "      <td>0</td>\n",
       "      <td>0</td>\n",
       "      <td>0</td>\n",
       "      <td>1</td>\n",
       "      <td>...</td>\n",
       "      <td>0</td>\n",
       "      <td>0</td>\n",
       "      <td>0</td>\n",
       "      <td>1</td>\n",
       "      <td>0</td>\n",
       "      <td>0</td>\n",
       "      <td>0</td>\n",
       "      <td>1</td>\n",
       "      <td>0</td>\n",
       "      <td>0</td>\n",
       "    </tr>\n",
       "    <tr>\n",
       "      <th>1</th>\n",
       "      <td>5.92</td>\n",
       "      <td>0.019278</td>\n",
       "      <td>48.2692</td>\n",
       "      <td>2009</td>\n",
       "      <td>443.4228</td>\n",
       "      <td>1</td>\n",
       "      <td>0</td>\n",
       "      <td>0</td>\n",
       "      <td>0</td>\n",
       "      <td>0</td>\n",
       "      <td>...</td>\n",
       "      <td>0</td>\n",
       "      <td>1</td>\n",
       "      <td>0</td>\n",
       "      <td>1</td>\n",
       "      <td>0</td>\n",
       "      <td>0</td>\n",
       "      <td>1</td>\n",
       "      <td>0</td>\n",
       "      <td>1</td>\n",
       "      <td>0</td>\n",
       "    </tr>\n",
       "    <tr>\n",
       "      <th>2</th>\n",
       "      <td>17.50</td>\n",
       "      <td>0.016760</td>\n",
       "      <td>141.6180</td>\n",
       "      <td>1999</td>\n",
       "      <td>2097.2700</td>\n",
       "      <td>0</td>\n",
       "      <td>0</td>\n",
       "      <td>0</td>\n",
       "      <td>0</td>\n",
       "      <td>0</td>\n",
       "      <td>...</td>\n",
       "      <td>0</td>\n",
       "      <td>0</td>\n",
       "      <td>0</td>\n",
       "      <td>1</td>\n",
       "      <td>0</td>\n",
       "      <td>0</td>\n",
       "      <td>0</td>\n",
       "      <td>1</td>\n",
       "      <td>0</td>\n",
       "      <td>0</td>\n",
       "    </tr>\n",
       "    <tr>\n",
       "      <th>3</th>\n",
       "      <td>19.20</td>\n",
       "      <td>0.000000</td>\n",
       "      <td>182.0950</td>\n",
       "      <td>1998</td>\n",
       "      <td>732.3800</td>\n",
       "      <td>1</td>\n",
       "      <td>0</td>\n",
       "      <td>0</td>\n",
       "      <td>0</td>\n",
       "      <td>0</td>\n",
       "      <td>...</td>\n",
       "      <td>0</td>\n",
       "      <td>0</td>\n",
       "      <td>0</td>\n",
       "      <td>0</td>\n",
       "      <td>1</td>\n",
       "      <td>0</td>\n",
       "      <td>1</td>\n",
       "      <td>0</td>\n",
       "      <td>0</td>\n",
       "      <td>0</td>\n",
       "    </tr>\n",
       "    <tr>\n",
       "      <th>4</th>\n",
       "      <td>8.93</td>\n",
       "      <td>0.000000</td>\n",
       "      <td>53.8614</td>\n",
       "      <td>1987</td>\n",
       "      <td>994.7052</td>\n",
       "      <td>0</td>\n",
       "      <td>0</td>\n",
       "      <td>0</td>\n",
       "      <td>0</td>\n",
       "      <td>0</td>\n",
       "      <td>...</td>\n",
       "      <td>0</td>\n",
       "      <td>0</td>\n",
       "      <td>0</td>\n",
       "      <td>0</td>\n",
       "      <td>0</td>\n",
       "      <td>0</td>\n",
       "      <td>1</td>\n",
       "      <td>1</td>\n",
       "      <td>0</td>\n",
       "      <td>0</td>\n",
       "    </tr>\n",
       "  </tbody>\n",
       "</table>\n",
       "<p>5 rows × 28 columns</p>\n",
       "</div>"
      ],
      "text/plain": [
       "   Item_Weight  Item_Visibility  Item_MRP  Outlet_Establishment_Year  \\\n",
       "0         9.30         0.016047  249.8092                       1999   \n",
       "1         5.92         0.019278   48.2692                       2009   \n",
       "2        17.50         0.016760  141.6180                       1999   \n",
       "3        19.20         0.000000  182.0950                       1998   \n",
       "4         8.93         0.000000   53.8614                       1987   \n",
       "\n",
       "   Item_Outlet_Sales  Regular  Breads  Breakfast  Canned  Dairy  ...  \\\n",
       "0          3735.1380        0       0          0       0      1  ...   \n",
       "1           443.4228        1       0          0       0      0  ...   \n",
       "2          2097.2700        0       0          0       0      0  ...   \n",
       "3           732.3800        1       0          0       0      0  ...   \n",
       "4           994.7052        0       0          0       0      0  ...   \n",
       "\n",
       "   Snack Foods  Soft Drinks  Starchy Foods  Medium  Small  Tier 2  Tier 3  \\\n",
       "0            0            0              0       1      0       0       0   \n",
       "1            0            1              0       1      0       0       1   \n",
       "2            0            0              0       1      0       0       0   \n",
       "3            0            0              0       0      1       0       1   \n",
       "4            0            0              0       0      0       0       1   \n",
       "\n",
       "   Supermarket Type1  Supermarket Type2  Supermarket Type3  \n",
       "0                  1                  0                  0  \n",
       "1                  0                  1                  0  \n",
       "2                  1                  0                  0  \n",
       "3                  0                  0                  0  \n",
       "4                  1                  0                  0  \n",
       "\n",
       "[5 rows x 28 columns]"
      ]
     },
     "execution_count": 37,
     "metadata": {},
     "output_type": "execute_result"
    }
   ],
   "source": [
    "train_data.head()"
   ]
  },
  {
   "cell_type": "code",
   "execution_count": 38,
   "metadata": {
    "execution": {
     "iopub.execute_input": "2021-03-05T10:42:23.296108Z",
     "iopub.status.busy": "2021-03-05T10:42:23.295398Z",
     "iopub.status.idle": "2021-03-05T10:42:23.311115Z",
     "shell.execute_reply": "2021-03-05T10:42:23.310444Z"
    },
    "papermill": {
     "duration": 0.081935,
     "end_time": "2021-03-05T10:42:23.311239",
     "exception": false,
     "start_time": "2021-03-05T10:42:23.229304",
     "status": "completed"
    },
    "tags": []
   },
   "outputs": [],
   "source": [
    "data_types = test_data.dtypes\n",
    "for cols in test_data.columns:\n",
    "    if data_types[cols]==data_types['Item_Type']:\n",
    "        temp = pd.get_dummies(test_data[cols],drop_first=True)\n",
    "        test_data.drop(cols,axis=1,inplace=True)\n",
    "        test_data = pd.concat([test_data,temp],axis=1)"
   ]
  },
  {
   "cell_type": "code",
   "execution_count": 39,
   "metadata": {
    "execution": {
     "iopub.execute_input": "2021-03-05T10:42:23.438414Z",
     "iopub.status.busy": "2021-03-05T10:42:23.437573Z",
     "iopub.status.idle": "2021-03-05T10:42:23.444242Z",
     "shell.execute_reply": "2021-03-05T10:42:23.443719Z"
    },
    "papermill": {
     "duration": 0.079438,
     "end_time": "2021-03-05T10:42:23.444428",
     "exception": false,
     "start_time": "2021-03-05T10:42:23.364990",
     "status": "completed"
    },
    "tags": []
   },
   "outputs": [
    {
     "data": {
      "text/html": [
       "<div>\n",
       "<style scoped>\n",
       "    .dataframe tbody tr th:only-of-type {\n",
       "        vertical-align: middle;\n",
       "    }\n",
       "\n",
       "    .dataframe tbody tr th {\n",
       "        vertical-align: top;\n",
       "    }\n",
       "\n",
       "    .dataframe thead th {\n",
       "        text-align: right;\n",
       "    }\n",
       "</style>\n",
       "<table border=\"1\" class=\"dataframe\">\n",
       "  <thead>\n",
       "    <tr style=\"text-align: right;\">\n",
       "      <th></th>\n",
       "      <th>Item_Weight</th>\n",
       "      <th>Item_Visibility</th>\n",
       "      <th>Item_MRP</th>\n",
       "      <th>Outlet_Establishment_Year</th>\n",
       "      <th>Regular</th>\n",
       "      <th>Breads</th>\n",
       "      <th>Breakfast</th>\n",
       "      <th>Canned</th>\n",
       "      <th>Dairy</th>\n",
       "      <th>Frozen Foods</th>\n",
       "      <th>...</th>\n",
       "      <th>Snack Foods</th>\n",
       "      <th>Soft Drinks</th>\n",
       "      <th>Starchy Foods</th>\n",
       "      <th>Medium</th>\n",
       "      <th>Small</th>\n",
       "      <th>Tier 2</th>\n",
       "      <th>Tier 3</th>\n",
       "      <th>Supermarket Type1</th>\n",
       "      <th>Supermarket Type2</th>\n",
       "      <th>Supermarket Type3</th>\n",
       "    </tr>\n",
       "  </thead>\n",
       "  <tbody>\n",
       "    <tr>\n",
       "      <th>0</th>\n",
       "      <td>20.75000</td>\n",
       "      <td>0.007565</td>\n",
       "      <td>107.8622</td>\n",
       "      <td>1999</td>\n",
       "      <td>0</td>\n",
       "      <td>0</td>\n",
       "      <td>0</td>\n",
       "      <td>0</td>\n",
       "      <td>0</td>\n",
       "      <td>0</td>\n",
       "      <td>...</td>\n",
       "      <td>1</td>\n",
       "      <td>0</td>\n",
       "      <td>0</td>\n",
       "      <td>1</td>\n",
       "      <td>0</td>\n",
       "      <td>0</td>\n",
       "      <td>0</td>\n",
       "      <td>1</td>\n",
       "      <td>0</td>\n",
       "      <td>0</td>\n",
       "    </tr>\n",
       "    <tr>\n",
       "      <th>1</th>\n",
       "      <td>8.30000</td>\n",
       "      <td>0.038428</td>\n",
       "      <td>87.3198</td>\n",
       "      <td>2007</td>\n",
       "      <td>1</td>\n",
       "      <td>0</td>\n",
       "      <td>0</td>\n",
       "      <td>0</td>\n",
       "      <td>1</td>\n",
       "      <td>0</td>\n",
       "      <td>...</td>\n",
       "      <td>0</td>\n",
       "      <td>0</td>\n",
       "      <td>0</td>\n",
       "      <td>0</td>\n",
       "      <td>1</td>\n",
       "      <td>1</td>\n",
       "      <td>0</td>\n",
       "      <td>1</td>\n",
       "      <td>0</td>\n",
       "      <td>0</td>\n",
       "    </tr>\n",
       "    <tr>\n",
       "      <th>2</th>\n",
       "      <td>14.60000</td>\n",
       "      <td>0.099575</td>\n",
       "      <td>241.7538</td>\n",
       "      <td>1998</td>\n",
       "      <td>0</td>\n",
       "      <td>0</td>\n",
       "      <td>0</td>\n",
       "      <td>0</td>\n",
       "      <td>0</td>\n",
       "      <td>0</td>\n",
       "      <td>...</td>\n",
       "      <td>0</td>\n",
       "      <td>0</td>\n",
       "      <td>0</td>\n",
       "      <td>0</td>\n",
       "      <td>1</td>\n",
       "      <td>0</td>\n",
       "      <td>1</td>\n",
       "      <td>0</td>\n",
       "      <td>0</td>\n",
       "      <td>0</td>\n",
       "    </tr>\n",
       "    <tr>\n",
       "      <th>3</th>\n",
       "      <td>7.31500</td>\n",
       "      <td>0.015388</td>\n",
       "      <td>155.0340</td>\n",
       "      <td>2007</td>\n",
       "      <td>0</td>\n",
       "      <td>0</td>\n",
       "      <td>0</td>\n",
       "      <td>0</td>\n",
       "      <td>0</td>\n",
       "      <td>0</td>\n",
       "      <td>...</td>\n",
       "      <td>1</td>\n",
       "      <td>0</td>\n",
       "      <td>0</td>\n",
       "      <td>0</td>\n",
       "      <td>1</td>\n",
       "      <td>1</td>\n",
       "      <td>0</td>\n",
       "      <td>1</td>\n",
       "      <td>0</td>\n",
       "      <td>0</td>\n",
       "    </tr>\n",
       "    <tr>\n",
       "      <th>4</th>\n",
       "      <td>12.95504</td>\n",
       "      <td>0.118599</td>\n",
       "      <td>234.2300</td>\n",
       "      <td>1985</td>\n",
       "      <td>1</td>\n",
       "      <td>0</td>\n",
       "      <td>0</td>\n",
       "      <td>0</td>\n",
       "      <td>1</td>\n",
       "      <td>0</td>\n",
       "      <td>...</td>\n",
       "      <td>0</td>\n",
       "      <td>0</td>\n",
       "      <td>0</td>\n",
       "      <td>1</td>\n",
       "      <td>0</td>\n",
       "      <td>0</td>\n",
       "      <td>1</td>\n",
       "      <td>0</td>\n",
       "      <td>0</td>\n",
       "      <td>1</td>\n",
       "    </tr>\n",
       "  </tbody>\n",
       "</table>\n",
       "<p>5 rows × 27 columns</p>\n",
       "</div>"
      ],
      "text/plain": [
       "   Item_Weight  Item_Visibility  Item_MRP  Outlet_Establishment_Year  Regular  \\\n",
       "0     20.75000         0.007565  107.8622                       1999        0   \n",
       "1      8.30000         0.038428   87.3198                       2007        1   \n",
       "2     14.60000         0.099575  241.7538                       1998        0   \n",
       "3      7.31500         0.015388  155.0340                       2007        0   \n",
       "4     12.95504         0.118599  234.2300                       1985        1   \n",
       "\n",
       "   Breads  Breakfast  Canned  Dairy  Frozen Foods  ...  Snack Foods  \\\n",
       "0       0          0       0      0             0  ...            1   \n",
       "1       0          0       0      1             0  ...            0   \n",
       "2       0          0       0      0             0  ...            0   \n",
       "3       0          0       0      0             0  ...            1   \n",
       "4       0          0       0      1             0  ...            0   \n",
       "\n",
       "   Soft Drinks  Starchy Foods  Medium  Small  Tier 2  Tier 3  \\\n",
       "0            0              0       1      0       0       0   \n",
       "1            0              0       0      1       1       0   \n",
       "2            0              0       0      1       0       1   \n",
       "3            0              0       0      1       1       0   \n",
       "4            0              0       1      0       0       1   \n",
       "\n",
       "   Supermarket Type1  Supermarket Type2  Supermarket Type3  \n",
       "0                  1                  0                  0  \n",
       "1                  1                  0                  0  \n",
       "2                  0                  0                  0  \n",
       "3                  1                  0                  0  \n",
       "4                  0                  0                  1  \n",
       "\n",
       "[5 rows x 27 columns]"
      ]
     },
     "execution_count": 39,
     "metadata": {},
     "output_type": "execute_result"
    }
   ],
   "source": [
    "test_data.head()"
   ]
  },
  {
   "cell_type": "code",
   "execution_count": 40,
   "metadata": {
    "execution": {
     "iopub.execute_input": "2021-03-05T10:42:23.556631Z",
     "iopub.status.busy": "2021-03-05T10:42:23.555932Z",
     "iopub.status.idle": "2021-03-05T10:42:23.929136Z",
     "shell.execute_reply": "2021-03-05T10:42:23.928352Z"
    },
    "papermill": {
     "duration": 0.431502,
     "end_time": "2021-03-05T10:42:23.929261",
     "exception": false,
     "start_time": "2021-03-05T10:42:23.497759",
     "status": "completed"
    },
    "tags": []
   },
   "outputs": [
    {
     "data": {
      "text/plain": [
       "DecisionTreeRegressor()"
      ]
     },
     "execution_count": 40,
     "metadata": {},
     "output_type": "execute_result"
    }
   ],
   "source": [
    "from sklearn.tree import DecisionTreeRegressor\n",
    "regr = DecisionTreeRegressor()\n",
    "regr.fit(train_data.drop('Item_Outlet_Sales',axis=1),train_data['Item_Outlet_Sales'])"
   ]
  },
  {
   "cell_type": "code",
   "execution_count": 41,
   "metadata": {
    "execution": {
     "iopub.execute_input": "2021-03-05T10:42:24.045117Z",
     "iopub.status.busy": "2021-03-05T10:42:24.044398Z",
     "iopub.status.idle": "2021-03-05T10:42:24.057616Z",
     "shell.execute_reply": "2021-03-05T10:42:24.057013Z"
    },
    "papermill": {
     "duration": 0.073318,
     "end_time": "2021-03-05T10:42:24.057730",
     "exception": false,
     "start_time": "2021-03-05T10:42:23.984412",
     "status": "completed"
    },
    "tags": []
   },
   "outputs": [
    {
     "name": "stdout",
     "output_type": "stream",
     "text": [
      "Training Accuracy for Decision Tree regressor : 1.0\n"
     ]
    }
   ],
   "source": [
    "X_train = train_data.drop('Item_Outlet_Sales',axis=1)\n",
    "y_train = train_data['Item_Outlet_Sales']\n",
    "print(\"Training Accuracy for Decision Tree regressor :\", regr.score(X_train, y_train))"
   ]
  },
  {
   "cell_type": "code",
   "execution_count": 42,
   "metadata": {
    "execution": {
     "iopub.execute_input": "2021-03-05T10:42:24.168767Z",
     "iopub.status.busy": "2021-03-05T10:42:24.168027Z",
     "iopub.status.idle": "2021-03-05T10:42:24.176729Z",
     "shell.execute_reply": "2021-03-05T10:42:24.177212Z"
    },
    "papermill": {
     "duration": 0.065733,
     "end_time": "2021-03-05T10:42:24.177359",
     "exception": false,
     "start_time": "2021-03-05T10:42:24.111626",
     "status": "completed"
    },
    "tags": []
   },
   "outputs": [],
   "source": [
    "predictions = regr.predict(test_data)"
   ]
  },
  {
   "cell_type": "code",
   "execution_count": 43,
   "metadata": {
    "execution": {
     "iopub.execute_input": "2021-03-05T10:42:24.288509Z",
     "iopub.status.busy": "2021-03-05T10:42:24.287838Z",
     "iopub.status.idle": "2021-03-05T10:42:24.295337Z",
     "shell.execute_reply": "2021-03-05T10:42:24.294835Z"
    },
    "papermill": {
     "duration": 0.064065,
     "end_time": "2021-03-05T10:42:24.295447",
     "exception": false,
     "start_time": "2021-03-05T10:42:24.231382",
     "status": "completed"
    },
    "tags": []
   },
   "outputs": [
    {
     "data": {
      "text/plain": [
       "0       2087.2830\n",
       "1       1328.2710\n",
       "2        759.0120\n",
       "3       1794.3310\n",
       "4       7170.6660\n",
       "          ...    \n",
       "5676    3829.0158\n",
       "5677    2181.1608\n",
       "5678     361.5294\n",
       "5679    7247.2330\n",
       "5680     792.3020\n",
       "Length: 5681, dtype: float64"
      ]
     },
     "execution_count": 43,
     "metadata": {},
     "output_type": "execute_result"
    }
   ],
   "source": [
    "pd.Series(predictions)"
   ]
  },
  {
   "cell_type": "markdown",
   "metadata": {
    "papermill": {
     "duration": 0.053869,
     "end_time": "2021-03-05T10:42:24.403859",
     "exception": false,
     "start_time": "2021-03-05T10:42:24.349990",
     "status": "completed"
    },
    "tags": []
   },
   "source": [
    "# Conclusion\n",
    "\n",
    "After a whole lot of preprocessiong we were finally able to deveop a dataset which was good enough for our model to run. I didn't explain anything step wise but a lot of it is self explanatory. If you liked my notebook pls leave an upvote and if you have any suggestions mention them in the comments too. Cheers!"
   ]
  }
 ],
 "metadata": {
  "kernelspec": {
   "display_name": "Python 3",
   "language": "python",
   "name": "python3"
  },
  "language_info": {
   "codemirror_mode": {
    "name": "ipython",
    "version": 3
   },
   "file_extension": ".py",
   "mimetype": "text/x-python",
   "name": "python",
   "nbconvert_exporter": "python",
   "pygments_lexer": "ipython3",
   "version": "3.7.6"
  },
  "papermill": {
   "duration": 23.555752,
   "end_time": "2021-03-05T10:42:24.566714",
   "environment_variables": {},
   "exception": null,
   "input_path": "__notebook__.ipynb",
   "output_path": "__notebook__.ipynb",
   "parameters": {},
   "start_time": "2021-03-05T10:42:01.010962",
   "version": "2.1.0"
  }
 },
 "nbformat": 4,
 "nbformat_minor": 4
}
